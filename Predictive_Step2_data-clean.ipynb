{
 "cells": [
  {
   "cell_type": "code",
   "execution_count": 1,
   "id": "e81fc076-f3a5-4a55-be86-9bfa0ac321ed",
   "metadata": {},
   "outputs": [],
   "source": [
    "import pandas as pd\n",
    "import numpy as np\n",
    "import seaborn as sns\n",
    "import statsmodels.api as sm\n",
    "import matplotlib.pyplot as plt\n",
    "\n",
    "from scipy.stats import zscore\n",
    "from sklearn.linear_model import LinearRegression, LogisticRegression\n",
    "from sklearn import preprocessing\n",
    "from sklearn.model_selection import train_test_split\n",
    "\n",
    "%matplotlib inline"
   ]
  },
  {
   "cell_type": "code",
   "execution_count": 2,
   "id": "5c480a39-58f4-4a10-9a17-d7ccededcdef",
   "metadata": {},
   "outputs": [],
   "source": [
    "data2 = '../../data_sets/5 yrs NBME Scores_4-2020_3-2024.xlsx'\n",
    "data_CK = '../../data_sets/STEP2CK2019-2023.xlsx'\n",
    "data_CBSE = '../../data_sets/5 yrs CBSE Scores_1-2020_1-2024.xlsx'\n",
    "data_CCSE = '../../data_sets/5 yrs CCSE Scores_1-2020_1-2024.xlsx'\n",
    "\n",
    "ck_id = '../../data_sets/IDs.xlsx'\n",
    "pd.set_option('display.max_columns', None)"
   ]
  },
  {
   "cell_type": "code",
   "execution_count": 3,
   "id": "6d71eb38-d1ac-4b8e-bb18-c124ab438e7f",
   "metadata": {},
   "outputs": [],
   "source": [
    "clerkships =  pd.concat(pd.read_excel(data2, sheet_name=None),axis =0, ignore_index=True)\n",
    "\n",
    "df_f = pd.read_excel(data2,sheet_name = 0)\n",
    "df_i = pd.read_excel(data2,sheet_name = 1)\n",
    "df_n = pd.read_excel(data2,sheet_name = 2)\n",
    "df_o = pd.read_excel(data2,sheet_name = 3)\n",
    "df_pd = pd.read_excel(data2,sheet_name = 4)\n",
    "df_ps = pd.read_excel(data2,sheet_name = 5)\n",
    "df_s = pd.read_excel(data2,sheet_name = 6)\n",
    "\n",
    "ck = pd.read_excel(ck_id)\n",
    "ck_scores = pd.read_excel(data_CK)\n",
    "cbse_scores = pd.read_excel(data_CBSE)\n",
    "ccse_scores = pd.read_excel(data_CCSE)"
   ]
  },
  {
   "cell_type": "code",
   "execution_count": 4,
   "id": "6feaca7b-2e25-4dd9-a297-296e249ed295",
   "metadata": {},
   "outputs": [],
   "source": [
    "cbse_scores = cbse_scores[['ID','Total Test',]]"
   ]
  },
  {
   "cell_type": "code",
   "execution_count": 5,
   "id": "b0f1af91-39ab-4c51-8bd5-036e976d70f8",
   "metadata": {},
   "outputs": [],
   "source": [
    "ccse_scores= ccse_scores[['ID', 'Total Test',]]"
   ]
  },
  {
   "cell_type": "code",
   "execution_count": 6,
   "id": "cdbf89c1-18e2-4694-afec-787e1ff0b36e",
   "metadata": {},
   "outputs": [],
   "source": [
    "ck_scores = ck_scores.merge(ck, how=\"inner\", left_on='Usmle Id',right_on= \"USMLE ID\")\n",
    "ck_scores.rename(columns={'Banner ID_x':'ID'}, inplace=True)\n"
   ]
  },
  {
   "cell_type": "code",
   "execution_count": 7,
   "id": "13979270-356d-4bec-8b25-fdddd1bb0039",
   "metadata": {},
   "outputs": [
    {
     "name": "stdout",
     "output_type": "stream",
     "text": [
      "(1222, 47)\n",
      "(1222, 47)\n",
      "(892, 48)\n",
      "(913, 62)\n",
      "(913, 9)\n"
     ]
    }
   ],
   "source": [
    "result1 = df_f.merge(df_i, how= 'inner', on=['ID'])\n",
    "result2 = df_n.merge(df_o, how= 'inner', on=['ID'])\n",
    "result3 = df_pd.merge(df_ps, how= 'inner', on=['ID'])\n",
    "clerkship_data = result1.merge(result2, how= 'inner', on=['ID'])\n",
    "clerkship_data = clerkship_data.merge(result3, how= 'inner', on=['ID'])\n",
    "clerkship_data = clerkship_data.merge(df_s, how= 'inner', on=['ID'])\n",
    "\n",
    "print(clerkship_data.shape)\n",
    "\n",
    "#clerkship_data = clerkship_data.merge(cbse_scores, how= 'inner', on=['ID'])\n",
    "print(clerkship_data.shape)\n",
    "\n",
    "clerkship_data = clerkship_data.merge(ccse_scores, how= 'inner', on=['ID'])\n",
    "print(clerkship_data.shape)\n",
    "\n",
    "clerkship_data = clerkship_data.merge(ck_scores, how=\"inner\", left_on='ID',right_on= \"Banner ID\")\n",
    "print(clerkship_data.shape)\n",
    "\n",
    "clerkship_data.rename(columns={'Total Test':'CCSE_score'}, inplace=True)\n",
    "#'Total Test_x':'CBSE_score',\n",
    "\n",
    "clerkship_data =clerkship_data[['FAM 7100 Attempt# 1','INT 7200 Attempt# 1','NEU 7700 Attempt# 1',\n",
    "                  'OBS 7600 Attempt# 1','PED 7300 Attempt# 1','PSY 7500 Attempt# 1','SUR 7400 Attempt# 1','CCSE_score','3-dgt score']]\n",
    "#,'CBSE_score'\n",
    "print(clerkship_data.shape)\n"
   ]
  },
  {
   "cell_type": "code",
   "execution_count": 8,
   "id": "8a6b1ae6-fb83-44f9-828a-78f20e8b0f8c",
   "metadata": {},
   "outputs": [],
   "source": [
    "clerkships.loc[clerkships.Exam == 'Family Medicine Modular Core + Chronic + Musculoskeletal', 'class'] = \"FAM 7100\"\n",
    "clerkships.loc[clerkships.Exam == 'Medicine', 'class'] = \"INT 7200\"\n",
    "clerkships.loc[clerkships.Exam == 'Clinical Neurology', 'class'] = \"NEU 7700\"\n",
    "clerkships.loc[clerkships.Exam == 'Obstetrics and Gynecology', 'class'] = \"OBS 7600\"\n",
    "clerkships.loc[clerkships.Exam == 'Pediatrics', 'class'] = \"PED 7300\"\n",
    "clerkships.loc[clerkships.Exam == 'Psychiatry', 'class'] = \"PSY 7500\"\n",
    "clerkships.loc[clerkships.Exam == 'Surgery', 'class'] = \"SUR 7400\"\n",
    "\n",
    "clerkships.loc[clerkships.Exam == 'Family Medicine Modular Core + Chronic + Musculoskeletal', 'gmp'] = 59\n",
    "clerkships.loc[clerkships.Exam == 'Medicine', 'gmp'] = 58\n",
    "clerkships.loc[clerkships.Exam == 'Clinical Neurology', 'gmp'] = 61\n",
    "clerkships.loc[clerkships.Exam == 'Obstetrics and Gynecology', 'gmp'] = 61\n",
    "clerkships.loc[clerkships.Exam == 'Pediatrics', 'gmp'] = 60\n",
    "clerkships.loc[clerkships.Exam == 'Psychiatry', 'gmp'] = 69\n",
    "clerkships.loc[clerkships.Exam == 'Surgery', 'gmp'] = 57"
   ]
  },
  {
   "cell_type": "code",
   "execution_count": 9,
   "id": "c8d72556-b173-43cc-a6f9-8e49da4cdc84",
   "metadata": {},
   "outputs": [],
   "source": [
    "clerkships_dash = clerkships\n",
    "clerkships_dash[\"percent_rank\"] = clerkships_dash.groupby(\"class\")[\"Attempt# 1 Score\"].transform(\"rank\", pct=True)\n",
    "clerkships_dash[\"P/F\"] = np.where(clerkships_dash['Attempt# 1 Score'] >= clerkships_dash['gmp'] ,\"Pass\",\"Fail\")"
   ]
  },
  {
   "cell_type": "code",
   "execution_count": 10,
   "id": "0ae13731-a997-4128-a650-0d08a871625a",
   "metadata": {},
   "outputs": [],
   "source": [
    "clerkships_dash = clerkships[['Test Date(s)', 'Exam', 'ID','Examinee', 'Attempt# 1 Score', 'class', 'gmp','percent_rank','P/F']]"
   ]
  },
  {
   "cell_type": "code",
   "execution_count": 11,
   "id": "5f6995a0-8e12-4623-b768-3e85750e51ad",
   "metadata": {},
   "outputs": [
    {
     "data": {
      "text/plain": [
       "(8205, 9)"
      ]
     },
     "execution_count": 11,
     "metadata": {},
     "output_type": "execute_result"
    }
   ],
   "source": [
    "clerkships_dash.shape"
   ]
  },
  {
   "cell_type": "code",
   "execution_count": 12,
   "id": "0221770a-f118-4247-b483-550d41ad059b",
   "metadata": {},
   "outputs": [
    {
     "data": {
      "text/html": [
       "<div>\n",
       "<style scoped>\n",
       "    .dataframe tbody tr th:only-of-type {\n",
       "        vertical-align: middle;\n",
       "    }\n",
       "\n",
       "    .dataframe tbody tr th {\n",
       "        vertical-align: top;\n",
       "    }\n",
       "\n",
       "    .dataframe thead th {\n",
       "        text-align: right;\n",
       "    }\n",
       "</style>\n",
       "<table border=\"1\" class=\"dataframe\">\n",
       "  <thead>\n",
       "    <tr style=\"text-align: right;\">\n",
       "      <th></th>\n",
       "      <th>Test Date(s)</th>\n",
       "      <th>Exam</th>\n",
       "      <th>ID</th>\n",
       "      <th>Examinee</th>\n",
       "      <th>Attempt# 1 Score</th>\n",
       "      <th>class</th>\n",
       "      <th>gmp</th>\n",
       "      <th>percent_rank</th>\n",
       "      <th>P/F</th>\n",
       "    </tr>\n",
       "  </thead>\n",
       "  <tbody>\n",
       "    <tr>\n",
       "      <th>0</th>\n",
       "      <td>2020-04-30</td>\n",
       "      <td>Family Medicine Modular Core + Chronic + Muscu...</td>\n",
       "      <td>4316134</td>\n",
       "      <td>BULAK KAROLINA</td>\n",
       "      <td>72</td>\n",
       "      <td>FAM 7100</td>\n",
       "      <td>59.0</td>\n",
       "      <td>0.297145</td>\n",
       "      <td>Pass</td>\n",
       "    </tr>\n",
       "    <tr>\n",
       "      <th>1</th>\n",
       "      <td>2020-05-08</td>\n",
       "      <td>Family Medicine Modular Core + Chronic + Muscu...</td>\n",
       "      <td>4598507</td>\n",
       "      <td>ASANTE JENNIFER ASEYE</td>\n",
       "      <td>68</td>\n",
       "      <td>FAM 7100</td>\n",
       "      <td>59.0</td>\n",
       "      <td>0.133218</td>\n",
       "      <td>Pass</td>\n",
       "    </tr>\n",
       "  </tbody>\n",
       "</table>\n",
       "</div>"
      ],
      "text/plain": [
       "  Test Date(s)                                               Exam       ID  \\\n",
       "0   2020-04-30  Family Medicine Modular Core + Chronic + Muscu...  4316134   \n",
       "1   2020-05-08  Family Medicine Modular Core + Chronic + Muscu...  4598507   \n",
       "\n",
       "                Examinee  Attempt# 1 Score     class   gmp  percent_rank   P/F  \n",
       "0         BULAK KAROLINA                72  FAM 7100  59.0      0.297145  Pass  \n",
       "1  ASANTE JENNIFER ASEYE                68  FAM 7100  59.0      0.133218  Pass  "
      ]
     },
     "execution_count": 12,
     "metadata": {},
     "output_type": "execute_result"
    }
   ],
   "source": [
    "clerkships_dash.head(2)"
   ]
  },
  {
   "cell_type": "code",
   "execution_count": 13,
   "id": "061d584a-a6a4-4274-9a72-283f6f6aafe7",
   "metadata": {},
   "outputs": [
    {
     "data": {
      "text/html": [
       "<div>\n",
       "<style scoped>\n",
       "    .dataframe tbody tr th:only-of-type {\n",
       "        vertical-align: middle;\n",
       "    }\n",
       "\n",
       "    .dataframe tbody tr th {\n",
       "        vertical-align: top;\n",
       "    }\n",
       "\n",
       "    .dataframe thead th {\n",
       "        text-align: right;\n",
       "    }\n",
       "</style>\n",
       "<table border=\"1\" class=\"dataframe\">\n",
       "  <thead>\n",
       "    <tr style=\"text-align: right;\">\n",
       "      <th></th>\n",
       "      <th>FAM 7100 Attempt# 1</th>\n",
       "      <th>INT 7200 Attempt# 1</th>\n",
       "      <th>NEU 7700 Attempt# 1</th>\n",
       "      <th>OBS 7600 Attempt# 1</th>\n",
       "      <th>PED 7300 Attempt# 1</th>\n",
       "      <th>PSY 7500 Attempt# 1</th>\n",
       "      <th>SUR 7400 Attempt# 1</th>\n",
       "      <th>CCSE_score</th>\n",
       "      <th>3-dgt score</th>\n",
       "    </tr>\n",
       "  </thead>\n",
       "  <tbody>\n",
       "    <tr>\n",
       "      <th>0</th>\n",
       "      <td>70</td>\n",
       "      <td>78</td>\n",
       "      <td>72</td>\n",
       "      <td>77</td>\n",
       "      <td>77</td>\n",
       "      <td>82</td>\n",
       "      <td>73</td>\n",
       "      <td>226</td>\n",
       "      <td>234</td>\n",
       "    </tr>\n",
       "    <tr>\n",
       "      <th>1</th>\n",
       "      <td>82</td>\n",
       "      <td>77</td>\n",
       "      <td>81</td>\n",
       "      <td>87</td>\n",
       "      <td>73</td>\n",
       "      <td>87</td>\n",
       "      <td>77</td>\n",
       "      <td>206</td>\n",
       "      <td>249</td>\n",
       "    </tr>\n",
       "  </tbody>\n",
       "</table>\n",
       "</div>"
      ],
      "text/plain": [
       "   FAM 7100 Attempt# 1  INT 7200 Attempt# 1  NEU 7700 Attempt# 1  \\\n",
       "0                   70                   78                   72   \n",
       "1                   82                   77                   81   \n",
       "\n",
       "   OBS 7600 Attempt# 1  PED 7300 Attempt# 1  PSY 7500 Attempt# 1  \\\n",
       "0                   77                   77                   82   \n",
       "1                   87                   73                   87   \n",
       "\n",
       "   SUR 7400 Attempt# 1  CCSE_score  3-dgt score  \n",
       "0                   73         226          234  \n",
       "1                   77         206          249  "
      ]
     },
     "execution_count": 13,
     "metadata": {},
     "output_type": "execute_result"
    }
   ],
   "source": [
    "clerkship_data.head(2)"
   ]
  },
  {
   "cell_type": "code",
   "execution_count": 14,
   "id": "da59df65-a432-4497-a49c-ed87dcb7f70d",
   "metadata": {},
   "outputs": [],
   "source": [
    "with pd.ExcelWriter('dataset.xlsx') as writer:\n",
    "    clerkship_data.to_excel(writer, sheet_name = 'dataset', index = False)\n",
    "    clerkships_dash.to_excel(writer, sheet_name = 'dashboard', index = False)"
   ]
  },
  {
   "cell_type": "code",
   "execution_count": null,
   "id": "82388713-1883-4d0e-9f4f-ffd7a489d235",
   "metadata": {},
   "outputs": [],
   "source": []
  }
 ],
 "metadata": {
  "kernelspec": {
   "display_name": "Python 3 (ipykernel)",
   "language": "python",
   "name": "python3"
  },
  "language_info": {
   "codemirror_mode": {
    "name": "ipython",
    "version": 3
   },
   "file_extension": ".py",
   "mimetype": "text/x-python",
   "name": "python",
   "nbconvert_exporter": "python",
   "pygments_lexer": "ipython3",
   "version": "3.9.13"
  }
 },
 "nbformat": 4,
 "nbformat_minor": 5
}
